{
 "cells": [
  {
   "cell_type": "markdown",
   "id": "de0fbf7f",
   "metadata": {},
   "source": [
    "# Arbitrage opportunities"
   ]
  },
  {
   "cell_type": "markdown",
   "id": "5eef8ea0",
   "metadata": {},
   "source": [
    "### Steps of finding arbitrage opportunities:\n",
    "\n",
    "#### Pre - algorithm\n",
    "1. Setup\n",
    "    - Reading wines from monopolet from a .csv file, storing it in a dataframe\n",
    "    - Reading wines from vivino from a .xlsx file, storing it in a dataframe\n",
    "    - Setting up dictionary to store the wines with an arbitrage opportunity\n",
    "\n",
    "#### Algorithm\n",
    "2. Creating a double for-loop to iterate over all wines in both datasets\n",
    "3. Using a package called SequenceMatcher that takes in two strings, and compare them to their similarity, returning a percent. \n",
    "    - Vinmonopolet include always both producer and wine name, Vivino doesn't always include both.\n",
    "    - Therefore we put a minimum similarity-percent of 85%.\n",
    "4. If we find wines that are 85% similar or more, we check if their year is the same (which we think is important)\n",
    "5. Last we check if the price in Norway is cheaper than the market price\n",
    "6. If the wine pass all the checks, we store it in the dictionary as an arbitrage opportunity\n",
    "7. Storing the dictionary as a dataframe\n",
    "\n",
    "#### Post - algorithm\n",
    "8. Creating a .csv file with the dataframe stored in step 7"
   ]
  },
  {
   "cell_type": "code",
   "execution_count": 1,
   "metadata": {},
   "outputs": [],
   "source": [
    "import pandas as pd\n",
    "from difflib import SequenceMatcher"
   ]
  },
  {
   "cell_type": "code",
   "execution_count": 3,
   "id": "7184b6f1",
   "metadata": {},
   "outputs": [],
   "source": [
    "#Just to load this if I have ran the algorithm earlier as it take a lot of time to run the algorithm\n",
    "df = pd.read_csv(\"wines_vinmonopolet.csv\")\n",
    "\n",
    "#Read the dataset from Vivino (Stored as an excel-file)\n",
    "df_vivino = pd.read_csv(\"wine_scrape_clean_result.csv\")\n",
    "\n",
    "\n",
    "#Creating a dictionary to store values\n",
    "arbitrage_wines = {\n",
    "    \"name\" : [],\n",
    "    \"vpolet_price\" : [],\n",
    "    \"vivino_price\" : [],\n",
    "    \"region\" : [],\n",
    "    \"country\" : [],\n",
    "    \"ratings\" : []\n",
    "}\n"
   ]
  },
  {
   "cell_type": "markdown",
   "metadata": {},
   "source": [
    "### Algorithm"
   ]
  },
  {
   "cell_type": "code",
   "execution_count": null,
   "id": "c2dd35db",
   "metadata": {},
   "outputs": [],
   "source": [
    "#Double for-loop to find all of the matching wines (with 85% accuracy)\n",
    "\n",
    "for i in range(df.shape[0]):\n",
    "    for j in range(df_vivino.shape[0]):\n",
    "        \n",
    "        #Checking if the algorithm matches by 85%\n",
    "        if float(SequenceMatcher(None, df.loc[i, \"Name\"].lower(), (str(df_vivino.loc[j, \"WineBrand\"]).lower() + \" \" +  str(df_vivino.loc[j, \"WineName\"]).lower())).ratio())>0.85:\n",
    "            \n",
    "            #Formatting the wine names to check if there is a year in the end (we need matching years as year is treated as a string)\n",
    "\n",
    "            wine1 = df.loc[i, \"Name\"].lower()\n",
    "            wine2 = df_vivino.loc[j, \"WineBrand\"].lower() + \" \" +  df_vivino.loc[j, \"WineName\"].lower()\n",
    "            wine1 = wine1.split()\n",
    "            wine2 = wine2.split()\n",
    "            \n",
    "            #Year always comes last (if there is a number), so we check the last string in each wine\n",
    "            if wine1[len(wine1)-1] == wine2[len(wine2)-1]:\n",
    "                \n",
    "                #Checking whether there is an arbitrage opportunity\n",
    "                if float(df.loc[i, \"Price\"])<float(df_vivino.loc[j, \"WinePrice\"]):\n",
    "                    \n",
    "                    #If there is an arbitrage opportunity, we add the wine to the arbitrage_wines dictionary\n",
    "                    arbitrage_wines[\"name\"].append(df.loc[i, \"Name\"])\n",
    "                    arbitrage_wines[\"vpolet_price\"].append(df.loc[i, \"Price\"])\n",
    "                    arbitrage_wines[\"region\"].append(df.loc[i, \"Region\"])\n",
    "                    arbitrage_wines[\"country\"].append(df.loc[i, \"Country\"])\n",
    "                    arbitrage_wines[\"vivino_price\"].append(df_vivino.loc[j, \"WinePrice\"])\n",
    "                    arbitrage_wines[\"ratings\"].append(df_vivino.loc[j, \"WineRating\"])\n",
    "                    print(\"\\n--------------------\\n\")\n",
    "                    \n",
    "                    break\n",
    "\n",
    "#Storing all arbitrage opportunities in a dataframe\n",
    "arbitrage_wines_df = pd.DataFrame(arbitrage_wines)"
   ]
  },
  {
   "cell_type": "markdown",
   "metadata": {},
   "source": [
    "### Post - Algorithm"
   ]
  },
  {
   "cell_type": "code",
   "execution_count": null,
   "metadata": {},
   "outputs": [],
   "source": [
    "#Create a csv-file with the dataset\n",
    "arbitrage_wines_df.to_csv(\"arbitrage_wines.csv\")"
   ]
  }
 ],
 "metadata": {
  "kernelspec": {
   "display_name": "dig_tech",
   "language": "python",
   "name": "dig_tech"
  },
  "language_info": {
   "codemirror_mode": {
    "name": "ipython",
    "version": 3
   },
   "file_extension": ".py",
   "mimetype": "text/x-python",
   "name": "python",
   "nbconvert_exporter": "python",
   "pygments_lexer": "ipython3",
   "version": "3.10.6"
  },
  "orig_nbformat": 4,
  "vscode": {
   "interpreter": {
    "hash": "916dbcbb3f70747c44a77c7bcd40155683ae19c65e1c03b4aa3499c5328201f1"
   }
  }
 },
 "nbformat": 4,
 "nbformat_minor": 2
}
