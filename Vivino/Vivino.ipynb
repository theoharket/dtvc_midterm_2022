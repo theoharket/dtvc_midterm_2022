{
 "cells": [
  {
   "cell_type": "markdown",
   "metadata": {},
   "source": [
    "# The following code is used for scraping wines from Vivino\n",
    "\n",
    "The code is performed in functions to automate the scraping process. It is intended to scrape wine in the premium sector with price above 50 pounds from Vivino"
   ]
  },
  {
   "cell_type": "markdown",
   "metadata": {},
   "source": [
    "### Problems during scraping\n",
    "* The price configuration was presented using drag slider with no input boxes\n",
    "* The price wasn't always linked to the same html element\n",
    "* The automatic window scroll was often stuck, when the number of resulting wine cards exceeded 1000"
   ]
  },
  {
   "cell_type": "markdown",
   "metadata": {},
   "source": [
    "### Scraping solutions\n",
    "* The special Drag and Drop Selenium function has been found for moving price slider\n",
    "* All possible elements linked to the price of wine have been identified\n",
    "* The scraping data have been split into parts based on price intervals and wine categories to avoid computational issues <br> 1. The algorithm iterates over a list of price intervals from 50 pounds to the maximum price\n",
    "<br> 2. Within each price interval, the algorithm separately scrapes red wine and other categories of less popular wine\n",
    "<br> The separation of data using price intervals and wine categories ensures the smooth Selenium scraping process"
   ]
  },
  {
   "cell_type": "markdown",
   "metadata": {},
   "source": [
    "### Steps of algorithm"
   ]
  },
  {
   "cell_type": "markdown",
   "metadata": {},
   "source": [
    "#### Pre - Algorithm\n",
    "1. Modules are imported\n",
    "2. Functions for changing price interval, automatically scrolling page and interating over results are defined"
   ]
  },
  {
   "cell_type": "markdown",
   "metadata": {},
   "source": [
    "#### Algortihm\n",
    "3. The first price interval is set\n",
    "4. Resulting page is filtered using price interval and red wine category\n",
    "5. Resulting page is scrolled down to the bottom using Selenium\n",
    "6. HTML code is extracted from the resulting page using Beautiful Soup, where all essential wine data are retrieved\n",
    "7. Data subset is added to the whole data\n",
    "8. Resulting page is filtered using the same price interval, but using the rest of wine categories\n",
    "9. Resulting page is scrolled down to the bottom using Selenium\n",
    "10. HTML code is extracted from the resulting page using Beautiful Soup, where all essential wine data are retrieved\n",
    "11. Data subset is added to the whole data\n",
    "**Process (3-11) is repeated until no price intervals are left**"
   ]
  },
  {
   "cell_type": "markdown",
   "metadata": {},
   "source": [
    "#### Post - Algorithm\n",
    "12. Data frame is created based on the whole data and column names\n",
    "13. Data are cleaned, processed, where the right formats are set\n",
    "14. Data are exported to csv/xlsx"
   ]
  },
  {
   "cell_type": "markdown",
   "metadata": {},
   "source": [
    "### Pre - Algorithm"
   ]
  },
  {
   "cell_type": "code",
   "execution_count": null,
   "metadata": {},
   "outputs": [],
   "source": [
    "# Importing essential packages for scraping and data management\n",
    "# Please note, tqdm package is used for representing progress bar line during scraping process\n",
    "from tqdm.notebook import tqdm \n",
    "from bs4 import BeautifulSoup\n",
    "import selenium\n",
    "from selenium import webdriver\n",
    "from selenium.webdriver import ActionChains\n",
    "from selenium.webdriver.support.ui import WebDriverWait\n",
    "from selenium.webdriver.common.keys import Keys\n",
    "from selenium.webdriver.common.by import By\n",
    "import sys\n",
    "import pandas as pd\n",
    "import numpy as np\n",
    "import re\n",
    "import time"
   ]
  },
  {
   "cell_type": "code",
   "execution_count": null,
   "metadata": {},
   "outputs": [],
   "source": [
    "# Selecting the path of chromedriver\n",
    "# import os\n",
    "\n",
    "# CHROMEDRIVER_PATH = os.system(\"which chromedriver\")\n",
    "# print(CHROMEDRIVER_PATH)"
   ]
  },
  {
   "cell_type": "code",
   "execution_count": null,
   "metadata": {},
   "outputs": [],
   "source": [
    "# Launcing the Selenium browser\n",
    "wd = webdriver.Chrome()\n",
    "# Opening the link\n",
    "refresh_link = \"https://www.vivino.com/explore?e=eJzLLbI1VMvNzLM1UMtNrLA1MTBQS660dXdSSwYSAWoFQNn0NNuyxKLM1JLEHLX8ohTblNTiZLX8pErblMzi5PzSvJL4gtSi5NS8EgCfGBoC\"\n",
    "wd.get(refresh_link)\n",
    "time.sleep(2)\n",
    "# Accepting cookies\n",
    "wd.find_element(By.XPATH,'//*[@id=\"cookie-notice-container\"]/div/button').click()\n",
    "time.sleep(2)"
   ]
  },
  {
   "cell_type": "code",
   "execution_count": null,
   "metadata": {},
   "outputs": [],
   "source": [
    "# Function for setting price interval on the website\n",
    "def price_slider(left_value, right_value):\n",
    "    # identifying the left and right element of price slider\n",
    "    left_slider = wd.find_element_by_css_selector(\"div[class^='rc-slider-handle rc-slider-handle-1']\")\n",
    "    right_slider = wd.find_element_by_css_selector(\"div[class^='rc-slider-handle rc-slider-handle-2']\")\n",
    "    time.sleep(2)\n",
    "    # moving the left element of price slider in pixels (set by left_value)\n",
    "    ActionChains(wd).drag_and_drop_by_offset(left_slider, left_value, 0).perform()\n",
    "    time.sleep(2)\n",
    "    # moving the right element of price slider in pixels (set by right_value)\n",
    "    ActionChains(wd).drag_and_drop_by_offset(right_slider, right_value, 0).perform()\n",
    "    time.sleep(3)"
   ]
  },
  {
   "cell_type": "code",
   "execution_count": null,
   "metadata": {},
   "outputs": [],
   "source": [
    "### Function for automatically scrolling page to the bottom using Selenium\n",
    "# Partially referenced from: https://stackoverflow.com/questions/20986631/how-can-i-scroll-a-web-page-using-selenium-webdriver-in-python\n",
    "def scroll_page():\n",
    "    # extracting scroll height\n",
    "    last_height = wd.execute_script(\"return document.body.scrollHeight\")\n",
    "    while True:\n",
    "        # scrolling down to the bottom\n",
    "        wd.execute_script(\"window.scrollTo(0, document.body.scrollHeight);\")\n",
    "        time.sleep(1.5)\n",
    "        # extracting new scroll height and comparing with the last scroll height (if no difference, stop the function)\n",
    "        new_height = wd.execute_script(\"return document.body.scrollHeight\")\n",
    "        if new_height == last_height:\n",
    "            \n",
    "            # check, whether it's stuck\n",
    "            wd.execute_script(\"scrollBy(0,-3000);\")\n",
    "            time.sleep(1.5)\n",
    "            wd.execute_script(\"window.scrollTo(0, document.body.scrollHeight);\")\n",
    "            time.sleep(1.5)\n",
    "            new_height = wd.execute_script(\"return document.body.scrollHeight\")\n",
    "            if new_height == last_height:\n",
    "                break\n",
    "        last_height = new_height"
   ]
  },
  {
   "cell_type": "code",
   "execution_count": null,
   "metadata": {},
   "outputs": [],
   "source": [
    "# Function for scraping data from resulting page\n",
    "def scrape_wine():\n",
    "    \n",
    "    # extracting the wine cards with all necessary data\n",
    "    WineCards = wd.find_elements_by_css_selector(\"div[class^='wineCard__wineCard--2dj2T']\")\n",
    "    wine_data = []\n",
    "    for winecard in tqdm(WineCards):\n",
    "        \n",
    "        try:\n",
    "            # assigning the empty row list\n",
    "            row = []\n",
    "            # extracting html code of wine card element\n",
    "            winecard_html = winecard.get_attribute('innerHTML')\n",
    "            soup = BeautifulSoup(winecard_html, \"html.parser\")\n",
    "            \n",
    "            # assigning values to wine brand and price attributes to avoid None values\n",
    "            wine_brand_name = ''\n",
    "            wine_price = ''\n",
    "            \n",
    "            # extracting wine brand name\n",
    "            if soup.find('div', attrs={'class': re.compile('^wineInfoVintage__truncate.*')}):\n",
    "                wine_brand_name = soup.find('div', attrs={'class': re.compile('^wineInfoVintage__truncate.*')}).text\n",
    "            # extracting wine name\n",
    "            wine_name = soup.find('div', attrs={'class': re.compile('^wineInfoVintage__vintage.*')}).text\n",
    "            # extracting wine price\n",
    "            if soup.find('div', attrs={'class': re.compile('^addToCartButton__price.*')}):\n",
    "                wine_price = soup.find('div', attrs={'class': re.compile('^addToCartButton__price.*')}).text\n",
    "            # check for the 2nd case of price\n",
    "            if soup.find('div', attrs={'class': re.compile('^addToCart__subText--1pvFt.*')}):\n",
    "                price_value = soup.find('div', attrs={'class': re.compile('^addToCart__subText--1pvFt.*')}).text\n",
    "                if re.search(\"Available online\", price_value):\n",
    "                    wine_price = price_value\n",
    "\n",
    "            # extracting wine rating\n",
    "            wine_rating = soup.find(\"div\", class_=\"vivinoRating_averageValue__uDdPM\").text\n",
    "            # extracting the number of wine reviews\n",
    "            wine_review_count = soup.find(\"div\", class_=\"vivinoRating_caption__xL84P\").text\n",
    "            wine_location = soup.find('div', attrs={'class': re.compile('^wineInfoLocation__regionAndCountry.*')}).text\n",
    "            \n",
    "            # adding all attributes to the row\n",
    "            row.extend([wine_brand_name, \n",
    "                        wine_name, \n",
    "                        wine_price,  \n",
    "                        wine_rating, \n",
    "                        wine_review_count, \n",
    "                        wine_location])\n",
    "            # adding row to the data\n",
    "            wine_data.append(row)\n",
    "\n",
    "        except Exception as e:\n",
    "            print('Error on line {}'.format(sys.exc_info()[-1].tb_lineno), type(e).__name__, e)\n",
    "            pass\n",
    "    \n",
    "    return wine_data"
   ]
  },
  {
   "cell_type": "markdown",
   "metadata": {},
   "source": [
    "### Algorithm"
   ]
  },
  {
   "cell_type": "markdown",
   "metadata": {},
   "source": [
    "**BE AWARE** This algorithm will take a long time to run as it is a lot of pages to go through. Would higly reccomend using the data stored in wines_scrape_clean_result.csv instead. It will be the same result."
   ]
  },
  {
   "cell_type": "code",
   "execution_count": null,
   "metadata": {},
   "outputs": [],
   "source": [
    "# Assigning price intervals by setting pixels padding from the left and right inside price slider\n",
    "price_slider_intervals = [(245, -120), \n",
    "                          (255, -110), \n",
    "                          (265, -100), \n",
    "                          (275, -95), \n",
    "                          (280, -85), \n",
    "                          (290, -70), \n",
    "                          (305, -55), \n",
    "                          (323, -33), \n",
    "                          (345, 0)]\n",
    "data = []\n",
    "\n",
    "for index, value in enumerate(price_slider_intervals):\n",
    "    \n",
    "    # refreshing the page\n",
    "    wd.get(refresh_link)\n",
    "    time.sleep(2)\n",
    "    # accepting cookies\n",
    "    try:\n",
    "        if wd.find_element(By.XPATH,'//*[@id=\"cookie-notice-container\"]/div/button'):\n",
    "            wd.find_element(By.XPATH,'//*[@id=\"cookie-notice-container\"]/div/button').click()\n",
    "    except Exception:\n",
    "        pass\n",
    "    time.sleep(1)\n",
    "    \n",
    "    # extracting the left and right pixels padding for price slider\n",
    "    left_value = value[0]\n",
    "    right_value = value[1]\n",
    "    # assigning paddings using Selenium function\n",
    "    price_slider(left_value, right_value)\n",
    "    \n",
    "    print(f\"Price interval {index + 1} is set\")\n",
    "    \n",
    "    # selecting red wine separately (it's the largest category)\n",
    "    wd.find_element(By.XPATH,'//*[@id=\"explore-page-app\"]/div/div/div[2]/div[1]/div/div[1]/div[2]/label[1]').click()\n",
    "    time.sleep(2)\n",
    "    # scrolling page to the bottom\n",
    "    scroll_page()\n",
    "    \n",
    "    # scraping wine listed on the page (here, only red wine)\n",
    "    block_data = scrape_wine()\n",
    "    # adding subset to the whole data\n",
    "    data = data + block_data\n",
    "    \n",
    "    # unselecting red wine\n",
    "    wd.find_element(By.XPATH,'//*[@id=\"explore-page-app\"]/div/div/div[2]/div[1]/div/div[1]/div[2]/label[1]').click()\n",
    "    time.sleep(2)\n",
    "    # selecting the rest of wine categories\n",
    "    for i in range(2, 7):\n",
    "        time.sleep(0.5)\n",
    "        wd.find_element(By.XPATH,'//*[@id=\"explore-page-app\"]/div/div/div[2]/div[1]/div/div[1]/div[2]/label[' + str(i) + ']').click()\n",
    "    \n",
    "    \n",
    "    time.sleep(2)\n",
    "    # scrolling page to the bottom\n",
    "    scroll_page()\n",
    "    # scraping wine listed on the page (here, all categories of wine, except red wine)\n",
    "    block_data = scrape_wine()\n",
    "    # adding subset to the whole data\n",
    "    data = data + block_data"
   ]
  },
  {
   "cell_type": "markdown",
   "metadata": {},
   "source": [
    "### Post - Algorithm"
   ]
  },
  {
   "cell_type": "code",
   "execution_count": null,
   "metadata": {},
   "outputs": [],
   "source": [
    "# assigning column names\n",
    "columns = ['WineBrand',\n",
    "           'WineName',\n",
    "           'WinePrice',\n",
    "           'WineRating',\n",
    "           'WineReviewCount',\n",
    "           'WineLocation']\n",
    "# creating dataframe\n",
    "wine_df = pd.DataFrame(data, columns=columns)"
   ]
  },
  {
   "cell_type": "code",
   "execution_count": null,
   "metadata": {},
   "outputs": [],
   "source": [
    "# data cleaning procedures\n",
    "\n",
    "# stripping and replacing values for wine price and review count\n",
    "wine_df[\"WinePrice\"] = wine_df[\"WinePrice\"].str.replace(\"Available online from\", \"\")\n",
    "wine_df[\"WinePrice\"] = wine_df[\"WinePrice\"].str.replace(\"£\", \"\")\n",
    "wine_df[\"WinePrice\"] = wine_df[\"WinePrice\"].str.strip()\n",
    "wine_df[\"WineReviewCount\"] = wine_df[\"WineReviewCount\"].str.replace(\" ratings\", \"\")\n",
    "\n",
    "# changing data formats of columns\n",
    "wine_df['WinePrice'] = wine_df['WinePrice'].astype('float64', copy=False)\n",
    "wine_df['WineRating'] = wine_df['WineRating'].astype('float64', copy=False)\n",
    "wine_df['WineReviewCount'] = wine_df['WineReviewCount'].astype('float64', copy=False)\n",
    "\n",
    "# adding new column with wine year\n",
    "wine_df['WineYear'] = wine_df['WineName'].str.extract('(19\\d{2}|20\\d{2})')\n",
    "\n",
    "# removing duplicate rows\n",
    "wine_df = wine_df.drop_duplicates()\n",
    "wine_df.shape"
   ]
  },
  {
   "cell_type": "code",
   "execution_count": null,
   "metadata": {},
   "outputs": [],
   "source": [
    "# exporting data to excel\n",
    "wine_df.to_csv(\"vivino_wine_scrape_result.csv\", index=False)"
   ]
  },
  {
   "cell_type": "markdown",
   "metadata": {},
   "source": [
    "  "
   ]
  },
  {
   "cell_type": "markdown",
   "metadata": {},
   "source": [
    " "
   ]
  },
  {
   "cell_type": "markdown",
   "metadata": {},
   "source": [
    "# Visualisations"
   ]
  },
  {
   "cell_type": "code",
   "execution_count": null,
   "metadata": {},
   "outputs": [],
   "source": [
    "import matplotlib.pyplot as plt\n",
    "import matplotlib.patches as mpatches\n",
    "import seaborn as sns"
   ]
  },
  {
   "cell_type": "code",
   "execution_count": null,
   "metadata": {
    "scrolled": true
   },
   "outputs": [],
   "source": [
    "# Grouping and data preprocessing \n",
    "wine_year_slice = wine_df.groupby(['WineYear']).aggregate(np.mean)[[\"WineReviewCount\", \"WineRating\"]]\n",
    "wine_year_slice = wine_year_slice.reset_index()\n",
    "wine_year_slice['WineYear'] = wine_year_slice['WineYear'].astype('int64', copy=False)\n",
    "wine_year_slice = wine_year_slice[wine_year_slice['WineYear'] >= 1975]\n",
    "wine_year_slice['WineYear'] = wine_year_slice['WineYear'].astype(str, copy=False)\n",
    "xticks = wine_year_slice['WineYear'].str[2:]\n",
    "colors = []\n",
    "\n",
    "# Assigning colors based on the average wine rating\n",
    "for value in wine_year_slice[\"WineRating\"]:\n",
    "    if value < 4.2:\n",
    "        colors.append('#00a7fa')\n",
    "    elif value < 4.25:\n",
    "        colors.append('#00b3fa')\n",
    "    elif value < 4.3:\n",
    "        colors.append('#005cfa')\n",
    "    else:\n",
    "        colors.append('#6800fa')\n",
    "\n",
    "fig = plt.figure(figsize=(20, 6))\n",
    "ax = fig.add_subplot(111)\n",
    "ax.set_frame_on(False)\n",
    "\n",
    "# Creating bar chart, where average number of reviews is shown by each year from 1975 to 2021\n",
    "sns.barplot(data=wine_year_slice, x=xticks, y=\"WineReviewCount\", palette = colors)\n",
    "\n",
    "# Adding legend elements\n",
    "leg1 = mpatches.Patch(color='#00b3fa', label='Average rating < 4.2')\n",
    "leg2 = mpatches.Patch(color='#00a7fa', label='Average rating < 4.25')\n",
    "leg3 = mpatches.Patch(color='#005cfa', label='Average rating < 4.3')\n",
    "leg4 = mpatches.Patch(color='#6800fa', label='Average rating > 4.3')\n",
    "\n",
    "# Creating the chart legend\n",
    "legend = ax.legend(handles=[leg1, leg2, leg3, leg4],\n",
    "          title='Range of average wine rating [4.17, 4.42]',\n",
    "          loc = (0.03, 0.65),\n",
    "          fontsize=13, \n",
    "          fancybox=True)\n",
    "\n",
    "# Changing the font size of legend title\n",
    "plt.setp(legend.get_title(),fontsize=12.9)\n",
    "\n",
    "# Changing the font size of x-axis and y-axis ticks\n",
    "plt.xticks(fontsize=16)\n",
    "plt.yticks(fontsize=16)\n",
    "\n",
    "# Changing the font size of x-axis and y-axis labels\n",
    "plt.xlabel('Wine year of production', fontsize=16)\n",
    "plt.ylabel('Average number of wine reviews', fontsize=16)\n",
    "\n",
    "# Saving the bar chart with good resolution\n",
    "plt.savefig('VivinoBarChart.jpeg\", dpi=600)\n",
    "\n",
    "#Displaying the figure\n",
    "plt.show()"
   ]
  }
 ],
 "metadata": {
  "kernelspec": {
   "display_name": "Python 3 (ipykernel)",
   "language": "python",
   "name": "python3"
  },
  "language_info": {
   "codemirror_mode": {
    "name": "ipython",
    "version": 3
   },
   "file_extension": ".py",
   "mimetype": "text/x-python",
   "name": "python",
   "nbconvert_exporter": "python",
   "pygments_lexer": "ipython3",
   "version": "3.9.12"
  }
 },
 "nbformat": 4,
 "nbformat_minor": 4
}
