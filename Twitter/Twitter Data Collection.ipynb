{
 "cells": [
  {
   "cell_type": "markdown",
   "id": "83c5735c",
   "metadata": {},
   "source": [
    "# Twitter API - looking at wine preferences"
   ]
  },
  {
   "cell_type": "markdown",
   "id": "97e961dd",
   "metadata": {},
   "source": [
    "The code in this notebook is for gathering tweets regarding types of wine. We plan to gain insight into the UK population's wine preferences based on the frequency with which each category of wine is mentioned in the past week's tweets.\n",
    "\n",
    "## Problems during data collection\n",
    "1. When filtering the tweets by geolocation there were very few tweets from the UK in the last week. \n",
    "2. The order of the key terms in the request affects the resulting tweets.\n",
    "3. There were instances in the resulting tweets which did not mention exactly what we were looking for i.e. wrong context.\n",
    "\n",
    "## Solutions to the problems identified\n",
    "1. We decided to remove the location filter and assume that all English speakers have the same preferences.\n",
    "2. We repeated the tweet request four times, with each wine category in the first position once, and used all that data to obtain the ranking of the categories.\n",
    "3. When iterating through the tweets to count the number of times each category was mentioned, we ensured in our code such cases did not yield a count, hence cleaning the data in this way.\n",
    "\n",
    "## Steps in retrieving the tweets\n",
    "1. Access the Twitter API\n",
    "2. Decide on the key search terms and how many tweets to retrieve considering the limit\n",
    "3. Do this for all 4 search combinations:\n",
    "    - Create a dictionary with empty lists to pass the tweets in\n",
    "    - Collect original tweets (no retweets) written in English and starting with red wine in terms\n",
    "    - Create a for loop that iterates through all the words in the text and identifies the instances where red wine, white wine, sparkling wine and rosé wine are mentioned and gives a point to each category based on that.\n",
    "    - Add the points to the corresponding empty list in the dictionary and pass the dictionary into a dataframe\n",
    "    - Save as CSV to conduct analysis on the specific tweets you retrieved, otherwise results would change every moment as new tweets are made"
   ]
  },
  {
   "cell_type": "code",
   "execution_count": 1,
   "id": "7f91c23a",
   "metadata": {},
   "outputs": [],
   "source": [
    "#load modules\n",
    "import tweepy\n",
    "from tweepy import OAuthHandler\n",
    "import pandas as pd"
   ]
  },
  {
   "cell_type": "code",
   "execution_count": 2,
   "id": "8199d24f",
   "metadata": {},
   "outputs": [],
   "source": [
    "#pass Twitter API access keys\n",
    "CONSUMER_API_KEY = 'qjUmq9iH4zwfb6uOJjW1dZdFR'\n",
    "CONSUMER_API_SECRET = '1x2aYM2O9YgGScnlb0C3LbLUw2dqBk3mYgZYkl3uS0HXI7S5fb'\n",
    "ACCESS_KEY = '1582746111667732480-P9mYGx1NXrHLi30lIcjHY8TZXOEoed'\n",
    "ACCESS_SECRET = 'N9TP0ctqPS6TLWmpP4zwwu1Rmf99jPtSH2DfmUgNziXev'"
   ]
  },
  {
   "cell_type": "code",
   "execution_count": 3,
   "id": "c171aacd",
   "metadata": {},
   "outputs": [],
   "source": [
    "#access Twitter API\n",
    "auth = tweepy.OAuthHandler(CONSUMER_API_KEY, CONSUMER_API_SECRET)\n",
    "auth.set_access_token(ACCESS_KEY, ACCESS_SECRET)\n",
    "api = tweepy.API(auth, wait_on_rate_limit = True)"
   ]
  },
  {
   "cell_type": "code",
   "execution_count": 4,
   "id": "8ca6f269",
   "metadata": {},
   "outputs": [],
   "source": [
    "#Create a dictionary with empty lists for all the information you want from the tweets\n",
    "tweets_red = {\n",
    "    \"user\" : [],\n",
    "    \"red_wine\" : [],\n",
    "    \"white_wine\": [],\n",
    "    \"sparkling_wine\":[],\n",
    "    \"rosé_wine\": [],\n",
    "    \"content\": []\n",
    "}\n",
    "#Collect tweets starting with red wine in terms\n",
    "pos = 0 #start from 0 then if a type of wine is identified it will get one point\n",
    "for tweet in tweepy.Cursor(api.search_tweets,q=\"red wine OR white wine OR sparkling wine OR rosé wine AND -filter:retweets\", \n",
    "                           lang=\"en\", tweet_mode='extended').items(1000): #filter retweets to get only original tweets, get tweet_mode extended so you can retrieve the full text, only look at tweets in English\n",
    "    tweets_red[\"user\"].append(tweet.user.screen_name) #add all the usernames from the tweets retrieved to the empty user list in the dictionary\n",
    "    tweets_red[\"content\"].append(tweet.full_text) #add the text from all the tweets retrieved to the empty content list in the dictionary\n",
    "    red, white, sparkling, rosé = 0, 0,0,0 #initialise all at 0 \n",
    "    text = tweet.full_text.lower().replace(\".\", \"\").replace(\",\", \"\").split() #split the tweet text into individual words, make everything lowercase to ensure all instances of chosen words are recognised\n",
    "    #replace full stop and comma with space because the delimeter is the space and the split function with stop if there is a full stop or comma\n",
    "    for word in range(len(text)): #use a for loop to iterate through all the words in the text\n",
    "        if text[word] == \"wine\": #find the word wine\n",
    "            if text[word-1] == \"red\": #if the word red is before wine, give the variable red a point\n",
    "                red += 1\n",
    "            if text[word-1] == \"white\": #if the word white is before wine, give the variable white a point\n",
    "                white +=1\n",
    "            if text[word-1] == \"sparkling\": #if the word sparkling is before wine, give the variable sparkling a point\n",
    "                sparkling +=1\n",
    "            if text[word-1] == \"rosé\": #if the word rosé is before wine, give the variable rosé a point\n",
    "                rosé +=1\n",
    "    tweets_red[\"red_wine\"].append(red) #add all the points in variable red to the empty red_wine list in the dictionary\n",
    "    tweets_red[\"white_wine\"].append(white) #add all the points in variable white to the empty white_wine list in the dictionary\n",
    "    tweets_red[\"sparkling_wine\"].append(sparkling) #add all the points in variable sparkling to the empty sparkling_wine list in the dictionary\n",
    "    tweets_red[\"rosé_wine\"].append(rosé) #add all the points in variable rosé to the empty rosé_wine list in the dictionary"
   ]
  },
  {
   "cell_type": "code",
   "execution_count": 5,
   "id": "e0ef91d8",
   "metadata": {},
   "outputs": [],
   "source": [
    "#pass the tweets into a daraframe and save as CSV\n",
    "#the data will keep changing depending on when you retrieve the tweets, \n",
    "#so in this way I can save the snapshot of 1000 tweets from the week 26/10 - 02/11 and analyse it\n",
    "df_tweets_red = pd.DataFrame(tweets_red)\n",
    "df_tweets_red.to_csv('df_tweets_red.csv')"
   ]
  },
  {
   "cell_type": "code",
   "execution_count": 8,
   "id": "5ab50061",
   "metadata": {},
   "outputs": [],
   "source": [
    "#Create a dictionary with empty lists for all the information you want from the tweets\n",
    "tweets_white = {\n",
    "    \"user\" : [],\n",
    "    \"red_wine\" : [],\n",
    "    \"white_wine\": [],\n",
    "    \"sparkling_wine\":[],\n",
    "    \"rosé_wine\": [],\n",
    "    \"content\": []\n",
    "}\n",
    "#Collect tweets starting with red wine in terms\n",
    "pos = 0 #start from 0 then if a type of wine is identified it will get one point\n",
    "for tweet in tweepy.Cursor(api.search_tweets,q=\"white wine OR sparkling wine OR  rosé wine OR red wine AND -filter:retweets\", \n",
    "                           lang=\"en\", tweet_mode='extended').items(1000): #filter retweets to get only original tweets, get tweet_mode extended so you can retrieve the full text, only look at tweets in English\n",
    "    tweets_white[\"user\"].append(tweet.user.screen_name) #add all the usernames from the tweets retrieved to the empty user list in the dictionary\n",
    "    tweets_white[\"content\"].append(tweet.full_text) #add the text from all the tweets retrieved to the empty content list in the dictionary\n",
    "    red, white, sparkling, rosé = 0, 0,0,0 #initialise all at 0 \n",
    "    text = tweet.full_text.lower().replace(\".\", \"\").replace(\",\", \"\").split() #split the tweet text into individual words, make everything lowercase to ensure all instances of chosen words are recognised\n",
    "    #replace full stop and comma with space because the delimeter is the space and the split function with stop if there is a full stop or comma\n",
    "    for word in range(len(text)): #use a for loop to iterate through all the words in the text\n",
    "        if text[word] == \"wine\": #find the word wine\n",
    "            if text[word-1] == \"red\": #if the word red is before wine, give the variable red a point\n",
    "                red += 1\n",
    "            if text[word-1] == \"white\": #if the word white is before wine, give the variable white a point\n",
    "                white +=1\n",
    "            if text[word-1] == \"sparkling\": #if the word sparkling is before wine, give the variable sparkling a point\n",
    "                sparkling +=1\n",
    "            if text[word-1] == \"rosé\": #if the word rosé is before wine, give the variable rosé a point\n",
    "                rosé +=1\n",
    "    tweets_white[\"red_wine\"].append(red) #add all the points in variable red to the empty red_wine list in the dictionary\n",
    "    tweets_white[\"white_wine\"].append(white) #add all the points in variable white to the empty white_wine list in the dictionary\n",
    "    tweets_white[\"sparkling_wine\"].append(sparkling) #add all the points in variable sparkling to the empty sparkling_wine list in the dictionary\n",
    "    tweets_white[\"rosé_wine\"].append(rosé) #add all the points in variable rosé to the empty rosé_wine list in the dictionary"
   ]
  },
  {
   "cell_type": "code",
   "execution_count": 9,
   "id": "378078ed",
   "metadata": {},
   "outputs": [],
   "source": [
    "#pass the tweets into a daraframe and save as CSV\n",
    "#the data will keep changing depending on when you retrieve the tweets, \n",
    "#so in this way I can save the snapshot of 1000 tweets from the week 26/10 - 02/11 and analyse it\n",
    "df_tweets_white = pd.DataFrame(tweets_white)\n",
    "df_tweets_white.to_csv('df_tweets_white.csv')"
   ]
  },
  {
   "cell_type": "code",
   "execution_count": 4,
   "id": "c6ccd1df",
   "metadata": {},
   "outputs": [],
   "source": [
    "#Create a dictionary with empty lists for all the information you want from the tweets\n",
    "tweets_sparkling = {\n",
    "    \"user\" : [],\n",
    "    \"red_wine\" : [],\n",
    "    \"white_wine\": [],\n",
    "    \"sparkling_wine\":[],\n",
    "    \"rosé_wine\": [],\n",
    "    \"content\": []\n",
    "}\n",
    "#Collect tweets starting with red wine in terms\n",
    "pos = 0 #start from 0 then if a type of wine is identified it will get one point\n",
    "for tweet in tweepy.Cursor(api.search_tweets,q=\"sparkling wine OR  rosé wine OR red wine OR white wine AND -filter:retweets\", \n",
    "                           lang=\"en\", tweet_mode='extended').items(1000): #filter retweets to get only original tweets, get tweet_mode extended so you can retrieve the full text, only look at tweets in English\n",
    "    tweets_sparkling[\"user\"].append(tweet.user.screen_name) #add all the usernames from the tweets retrieved to the empty user list in the dictionary\n",
    "    tweets_sparkling[\"content\"].append(tweet.full_text) #add the text from all the tweets retrieved to the empty content list in the dictionary\n",
    "    red, white, sparkling, rosé = 0, 0,0,0 #initialise all at 0 \n",
    "    text = tweet.full_text.lower().replace(\".\", \"\").replace(\",\", \"\").split() #split the tweet text into individual words, make everything lowercase to ensure all instances of chosen words are recognised\n",
    "    #replace full stop and comma with space because the delimeter is the space and the split function with stop if there is a full stop or comma\n",
    "    for word in range(len(text)): #use a for loop to iterate through all the words in the text\n",
    "        if text[word] == \"wine\": #find the word wine\n",
    "            if text[word-1] == \"red\": #if the word red is before wine, give the variable red a point\n",
    "                red += 1\n",
    "            if text[word-1] == \"white\": #if the word white is before wine, give the variable white a point\n",
    "                white +=1\n",
    "            if text[word-1] == \"sparkling\": #if the word sparkling is before wine, give the variable sparkling a point\n",
    "                sparkling +=1\n",
    "            if text[word-1] == \"rosé\": #if the word rosé is before wine, give the variable rosé a point\n",
    "                rosé +=1\n",
    "    tweets_sparkling[\"red_wine\"].append(red) #add all the points in variable red to the empty red_wine list in the dictionary\n",
    "    tweets_sparkling[\"white_wine\"].append(white) #add all the points in variable white to the empty white_wine list in the dictionary\n",
    "    tweets_sparkling[\"sparkling_wine\"].append(sparkling) #add all the points in variable sparkling to the empty sparkling_wine list in the dictionary\n",
    "    tweets_sparkling[\"rosé_wine\"].append(rosé) #add all the points in variable rosé to the empty rosé_wine list in the dictionary"
   ]
  },
  {
   "cell_type": "code",
   "execution_count": 5,
   "id": "427fd51a",
   "metadata": {},
   "outputs": [],
   "source": [
    "#pass the tweets into a daraframe and save as CSV\n",
    "#the data will keep changing depending on when you retrieve the tweets, \n",
    "#so in this way I can save the snapshot of 1000 tweets from the week 26/10 - 02/11 and analyse it\n",
    "df_tweets_sparkling = pd.DataFrame(tweets_sparkling)\n",
    "df_tweets_sparkling.to_csv('df_tweets_sparkling.csv')"
   ]
  },
  {
   "cell_type": "code",
   "execution_count": 4,
   "id": "4c45a5b2",
   "metadata": {},
   "outputs": [],
   "source": [
    "#Create a dictionary with empty lists for all the information you want from the tweets\n",
    "tweets_rosé = {\n",
    "    \"user\" : [],\n",
    "    \"red_wine\" : [],\n",
    "    \"white_wine\": [],\n",
    "    \"sparkling_wine\":[],\n",
    "    \"rosé_wine\": [],\n",
    "    \"content\": []\n",
    "}\n",
    "#Collect tweets starting with red wine in terms\n",
    "pos = 0 #start from 0 then if a type of wine is identified it will get one point\n",
    "for tweet in tweepy.Cursor(api.search_tweets,q=\"rosé wine OR red wine OR white wine OR sparkling wine AND -filter:retweets\", \n",
    "                           lang=\"en\", tweet_mode='extended').items(1000): #filter retweets to get only original tweets, get tweet_mode extended so you can retrieve the full text, only look at tweets in English\n",
    "    tweets_rosé[\"user\"].append(tweet.user.screen_name) #add all the usernames from the tweets retrieved to the empty user list in the dictionary\n",
    "    tweets_rosé[\"content\"].append(tweet.full_text) #add the text from all the tweets retrieved to the empty content list in the dictionary\n",
    "    red, white, sparkling, rosé = 0, 0,0,0 #initialise all at 0 \n",
    "    text = tweet.full_text.lower().replace(\".\", \"\").replace(\",\", \"\").split() #split the tweet text into individual words, make everything lowercase to ensure all instances of chosen words are recognised\n",
    "    #replace full stop and comma with space because the delimeter is the space and the split function with stop if there is a full stop or comma\n",
    "    for word in range(len(text)): #use a for loop to iterate through all the words in the text\n",
    "        if text[word] == \"wine\": #find the word wine\n",
    "            if text[word-1] == \"red\": #if the word red is before wine, give the variable red a point\n",
    "                red += 1\n",
    "            if text[word-1] == \"white\": #if the word white is before wine, give the variable white a point\n",
    "                white +=1\n",
    "            if text[word-1] == \"sparkling\": #if the word sparkling is before wine, give the variable sparkling a point\n",
    "                sparkling +=1\n",
    "            if text[word-1] == \"rosé\": #if the word rosé is before wine, give the variable rosé a point\n",
    "                rosé +=1\n",
    "    tweets_rosé[\"red_wine\"].append(red) #add all the points in variable red to the empty red_wine list in the dictionary\n",
    "    tweets_rosé[\"white_wine\"].append(white) #add all the points in variable white to the empty white_wine list in the dictionary\n",
    "    tweets_rosé[\"sparkling_wine\"].append(sparkling) #add all the points in variable sparkling to the empty sparkling_wine list in the dictionary\n",
    "    tweets_rosé[\"rosé_wine\"].append(rosé) #add all the points in variable rosé to the empty rosé_wine list in the dictionary"
   ]
  },
  {
   "cell_type": "code",
   "execution_count": 5,
   "id": "a84bcc4e",
   "metadata": {},
   "outputs": [],
   "source": [
    "#pass the tweets into a daraframe and save as CSV\n",
    "#the data will keep changing depending on when you retrieve the tweets, \n",
    "#so in this way I can save the snapshot of 1000 tweets from the week 26/10 - 02/11 and analyse it\n",
    "df_tweets_rosé = pd.DataFrame(tweets_rosé)\n",
    "df_tweets_rosé.to_csv('df_tweets_rosé.csv')"
   ]
  }
 ],
 "metadata": {
  "kernelspec": {
   "display_name": "Python 3 (ipykernel)",
   "language": "python",
   "name": "python3"
  },
  "language_info": {
   "codemirror_mode": {
    "name": "ipython",
    "version": 3
   },
   "file_extension": ".py",
   "mimetype": "text/x-python",
   "name": "python",
   "nbconvert_exporter": "python",
   "pygments_lexer": "ipython3",
   "version": "3.9.13"
  }
 },
 "nbformat": 4,
 "nbformat_minor": 5
}
