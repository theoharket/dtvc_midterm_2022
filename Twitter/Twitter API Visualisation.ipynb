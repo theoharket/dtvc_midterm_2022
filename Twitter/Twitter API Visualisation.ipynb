{
 "cells": [
  {
   "cell_type": "markdown",
   "id": "83c5735c",
   "metadata": {},
   "source": [
    "# Twitter API - Visualising the data"
   ]
  },
  {
   "cell_type": "markdown",
   "id": "97e961dd",
   "metadata": {},
   "source": [
    "The code in this notebook is for visualising the ranking of wine types based on the frequency with which each category of wine is mentioned in the tweets we've gathered.\n",
    "\n",
    "## Steps in visualising the tweets\n",
    "1. Read each CSV file created based on the tweet requests and find the sum of tweets for each type of wine\n",
    "2. Create a dataframe with the sum of each wine category for the four different tweet requests\n",
    "3. Find the overall sum of each wine category which indicates the ranking of the wine types\n",
    "4. Plot a pie chart with the percentage that each wine category was mentioned in the 4000 tweets"
   ]
  },
  {
   "cell_type": "code",
   "execution_count": 1,
   "id": "7f91c23a",
   "metadata": {},
   "outputs": [],
   "source": [
    "#Load modules\n",
    "import pandas as pd\n",
    "import numpy as np\n",
    "import matplotlib.pyplot as plt\n",
    "import seaborn as sns"
   ]
  },
  {
   "cell_type": "markdown",
   "id": "f79e8140",
   "metadata": {},
   "source": [
    "## Formatting Twitter API Data"
   ]
  },
  {
   "cell_type": "code",
   "execution_count": 2,
   "id": "efaf9d60",
   "metadata": {},
   "outputs": [],
   "source": [
    "##RED WINE##\n",
    "\n",
    "\n",
    "# Read the CSV file\n",
    "df_tweets_red = pd.read_csv(\"df_tweets_red.csv\")\n",
    "# Aggregate the data and find the sum of tweets for each type of wine\n",
    "gb_tweets_red = df_tweets_red.groupby(\"red_wine\")[\n",
    "    [\"white_wine\", \"sparkling_wine\", \"rose_wine\", \"red_wine\"]\n",
    "].aggregate(np.sum)\n",
    "# Get the cumulative sum for each type of wine\n",
    "gb_tweets_red[\"cumsum_white_wine\"] = gb_tweets_red[\"white_wine\"].cumsum()\n",
    "gb_tweets_red[\"cumsum_sparkling_wine\"] = gb_tweets_red[\"sparkling_wine\"].cumsum()\n",
    "gb_tweets_red[\"cumsum_rose_wine\"] = gb_tweets_red[\"rose_wine\"].cumsum()\n",
    "gb_tweets_red[\"cumsum_red_wine\"] = gb_tweets_red[\"red_wine\"].cumsum()\n",
    "\n",
    "\n",
    "##WHITE WINE##\n",
    "\n",
    "\n",
    "# Read the CSV file\n",
    "df_tweets_white = pd.read_csv(\"df_tweets_white.csv\")\n",
    "\n",
    "# Aggregate the data and find the sum of tweets for each type of wine\n",
    "gb_tweets_white = df_tweets_white.groupby(\"red_wine\")[\n",
    "    [\"white_wine\", \"sparkling_wine\", \"rose_wine\", \"red_wine\"]\n",
    "].aggregate(np.sum)\n",
    "# Get the cumulative sum for each type of wine\n",
    "gb_tweets_white[\"cumsum_white_wine\"] = gb_tweets_white[\"white_wine\"].cumsum()\n",
    "gb_tweets_white[\"cumsum_sparkling_wine\"] = gb_tweets_white[\"sparkling_wine\"].cumsum()\n",
    "gb_tweets_white[\"cumsum_rose_wine\"] = gb_tweets_white[\"rose_wine\"].cumsum()\n",
    "gb_tweets_white[\"cumsum_red_wine\"] = gb_tweets_white[\"red_wine\"].cumsum()\n",
    "\n",
    "\n",
    "##SPARKLING WINE##\n",
    "\n",
    "\n",
    "# Read the CSV file\n",
    "df_tweets_sparkling = pd.read_csv(\"df_tweets_sparkling.csv\")\n",
    "\n",
    "# Aggregate the data and find the sum of tweets for each type of wine\n",
    "gb_tweets_sparkling = df_tweets_sparkling.groupby(\"red_wine\")[\n",
    "    [\"white_wine\", \"sparkling_wine\", \"rose_wine\", \"red_wine\"]\n",
    "].aggregate(np.sum)\n",
    "# Get the cumulative sum for each type of wine\n",
    "gb_tweets_sparkling[\"cumsum_white_wine\"] = gb_tweets_sparkling[\"white_wine\"].cumsum()\n",
    "gb_tweets_sparkling[\"cumsum_sparkling_wine\"] = gb_tweets_sparkling[\n",
    "    \"sparkling_wine\"\n",
    "].cumsum()\n",
    "gb_tweets_sparkling[\"cumsum_rose_wine\"] = gb_tweets_sparkling[\"rose_wine\"].cumsum()\n",
    "gb_tweets_sparkling[\"cumsum_red_wine\"] = gb_tweets_sparkling[\"red_wine\"].cumsum()\n",
    "\n",
    "\n",
    "##ROSE WINE##\n",
    "\n",
    "# Read the CSV file\n",
    "df_tweets_rose = pd.read_csv(\"df_tweets_rose.csv\")\n",
    "\n",
    "# Aggregate the data and find the sum of tweets for each type of wine\n",
    "gb_tweets_rose = df_tweets_rose.groupby(\"red_wine\")[\n",
    "    [\"white_wine\", \"sparkling_wine\", \"rose_wine\", \"red_wine\"]\n",
    "].aggregate(np.sum)\n",
    "# Get the cumulative sum for each type of wine\n",
    "gb_tweets_rose[\"cumsum_white_wine\"] = gb_tweets_rose[\"white_wine\"].cumsum()\n",
    "gb_tweets_rose[\"cumsum_sparkling_wine\"] = gb_tweets_rose[\"sparkling_wine\"].cumsum()\n",
    "gb_tweets_rose[\"cumsum_rose_wine\"] = gb_tweets_rose[\"rose_wine\"].cumsum()\n",
    "gb_tweets_rose[\"cumsum_red_wine\"] = gb_tweets_rose[\"red_wine\"].cumsum()\n",
    "\n",
    "# ---------------------#\n",
    "\n",
    "# Create a dataframe with the sum of each wine category for the four different tweet requests\n",
    "gb_tweets = {\n",
    "    \"red_wine\": list(\n",
    "        gb_tweets_red.loc[\n",
    "            1,\n",
    "            [\n",
    "                \"cumsum_white_wine\",\n",
    "                \"cumsum_red_wine\",\n",
    "                \"cumsum_rose_wine\",\n",
    "                \"cumsum_sparkling_wine\",\n",
    "            ],\n",
    "        ]\n",
    "    ),\n",
    "    \"white_wine\": list(\n",
    "        gb_tweets_white.loc[\n",
    "            1,\n",
    "            [\n",
    "                \"cumsum_white_wine\",\n",
    "                \"cumsum_red_wine\",\n",
    "                \"cumsum_rose_wine\",\n",
    "                \"cumsum_sparkling_wine\",\n",
    "            ],\n",
    "        ]\n",
    "    ),\n",
    "    \"sparkling_wine\": list(\n",
    "        gb_tweets_sparkling.loc[\n",
    "            1,\n",
    "            [\n",
    "                \"cumsum_white_wine\",\n",
    "                \"cumsum_red_wine\",\n",
    "                \"cumsum_rose_wine\",\n",
    "                \"cumsum_sparkling_wine\",\n",
    "            ],\n",
    "        ]\n",
    "    ),\n",
    "    \"rose_wine\": list(\n",
    "        gb_tweets_rose.loc[\n",
    "            1,\n",
    "            [\n",
    "                \"cumsum_white_wine\",\n",
    "                \"cumsum_red_wine\",\n",
    "                \"cumsum_rose_wine\",\n",
    "                \"cumsum_sparkling_wine\",\n",
    "            ],\n",
    "        ]\n",
    "    ),\n",
    "}\n",
    "\n",
    "df_tweets = pd.DataFrame(gb_tweets)\n"
   ]
  },
  {
   "cell_type": "markdown",
   "id": "e0d6a87c",
   "metadata": {},
   "source": [
    "## Visualisations"
   ]
  },
  {
   "cell_type": "code",
   "execution_count": 3,
   "id": "17ae348e",
   "metadata": {
    "scrolled": true
   },
   "outputs": [
    {
     "data": {
      "image/png": "[encoded data removed]",
      "text/plain": [
       "<Figure size 432x288 with 1 Axes>"
      ]
     },
     "metadata": {},
     "output_type": "display_data"
    }
   ],
   "source": [
    "# Data of each wine and the number of tweets they get\n",
    "data = [num for num in list(df_tweets.sum(axis = 0))]\n",
    "keys = ['Red Wine', 'White Wine', 'Sparkling Wine', 'Rosé Wine']\n",
    "\n",
    "#set the colour palette\n",
    "palette_color = sns.color_palette() \n",
    "\n",
    "#set the font scale\n",
    "sns.set(font_scale=1)\n",
    "\n",
    "# Plotting the pie chart\n",
    "_, _, text = plt.pie(data, colors=palette_color, autopct='%.0f%%')\n",
    "plt.title('Twitter mentions of wine categories', fontsize = 18)\n",
    "\n",
    "for txt in text: txt.set_color('black'), txt.set_fontsize(14)\n",
    "plt.legend(keys, framealpha = 0, loc = 3, bbox_to_anchor = (-0.3, 0))\n",
    "\n",
    "#save chart\n",
    "plt.savefig('pie_chart.png') #uncomment to save chart\n",
    "\n",
    "# displaying chart\n",
    "plt.show()"
   ]
  }
 ],
 "metadata": {
  "kernelspec": {
   "display_name": "dig_tech",
   "language": "python",
   "name": "dig_tech"
  },
  "language_info": {
   "codemirror_mode": {
    "name": "ipython",
    "version": 3
   },
   "file_extension": ".py",
   "mimetype": "text/x-python",
   "name": "python",
   "nbconvert_exporter": "python",
   "pygments_lexer": "ipython3",
   "version": "3.10.6"
  }
 },
 "nbformat": 4,
 "nbformat_minor": 5
}
