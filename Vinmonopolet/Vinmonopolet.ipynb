{
 "cells": [
  {
   "cell_type": "markdown",
   "id": "0fccf6f0",
   "metadata": {},
   "source": [
    "# Read all the datasets created in all algorithms"
   ]
  },
  {
   "cell_type": "code",
   "execution_count": null,
   "id": "49244781",
   "metadata": {},
   "outputs": [],
   "source": [
    "#Read these if you want to skip running the algorithms\n",
    "df_vinmonopolet = pd.read_csv(\"wines_vinmonopolet.csv\")"
   ]
  },
  {
   "cell_type": "markdown",
   "id": "314b79ea",
   "metadata": {},
   "source": [
    "### This notebook contains:\n",
    "\n",
    "1. Scraping of Vinmonopolet\n",
    "2. Algorithm to find arbitrage opportunities, using the scraped dataset and the dataset from Vivino"
   ]
  },
  {
   "cell_type": "markdown",
   "id": "611663fd",
   "metadata": {},
   "source": [
    "# Scraping Vinmonopolet"
   ]
  },
  {
   "cell_type": "markdown",
   "id": "c9dec92d",
   "metadata": {},
   "source": [
    "\n",
    "\n",
    "The code in this part is created to scrape the website: www.vinmonopolet.no and use this information combined with the Vivino dataset to find arbitrage opportunities.<br>\n",
    "It is intended to scrape wine in the premium sector, where premium wine is defined in this notebook as a wine with a price of 60£ or more."
   ]
  },
  {
   "cell_type": "markdown",
   "id": "69da5ae1",
   "metadata": {},
   "source": [
    "### Problems during scraping:\n",
    "\n",
    "- The primary problem is language, which introduces two problems. Translated words and special characters. Special characters in terms of letters not included in the UK alphabet. \n",
    "- The second problem is that Vinmonopolet includes the producer in its whole wine name, so we were not able to separate the producer and wine name.\n",
    "\n",
    "### Scraping solutions:\n",
    "#### Language problem\n",
    "- Created a .csv file with all translations from Norwegian to English. Making necessary string formatting in the algorithm. <br>\n",
    "\n",
    "#### Special characters\n",
    "\n",
    "- Replacing special charcters using the unicode-table. Some of the characters on Vinmonopolet were implemented using unicode. We therefore had to translate the unicode characters to plain text. We did this using the .replace function, replacing the unicode with plain text."
   ]
  },
  {
   "cell_type": "markdown",
   "id": "bdb3e86b",
   "metadata": {},
   "source": [
    "## Steps of scraping:\n",
    "#### Pre - Algorithm\n",
    "1. Opening the webpage in a new window\n",
    "2. Setup\n",
    "    - Dictionary to store values\n",
    "    - Variables to use in the algorithm\n",
    "    - Default values in case we don't find information on the variables\n",
    "\n",
    "#### Algorithm\n",
    "3. Finding the name stored in a ‘div’-tag\n",
    "4. Getting the year, stored in the name variable\n",
    "    - Looping over the name\n",
    "    - If we find a numeric value with length = 4, we set the year value to the numeric value\n",
    "    - We continue to iterate as some wine names include two years, and it is always the last occurrence that is the correct input\n",
    "5. Finding the category stored in a ‘div’-tag\n",
    "6. Finding the country and region\n",
    "    - Splitting the variable, checking whether we have both country and region or just country. The country is always included.\n",
    "7. Finding the price stored in a ‘span’-tag\n",
    "    - Changing the ‘,’ to a ‘.’\n",
    "    - Replacing Unicode characters to plain text\n",
    "    - Removing “Kr” (NOK)\n",
    "    - Converting NOK to GBP\n",
    "    - Changing the type to float\n",
    "    - Keeping only two decimals\n",
    "8. Finding the centilitres in a ‘span’-tag\n",
    "9. Finding the item ID in a ‘div’-tag\n",
    "10. Adding all the variables to the dictionary\n",
    "11. Going to the next page, go to step 3, and repeat. If no next page exists, move to step 12.\n",
    "12. Storing the dictionary to a dataframe\n",
    "13. Translating the necessary variables from Norwegian words to English\n",
    "\n",
    "\n",
    "#### Post - Algorithm\n",
    "14. Saving the dataframe to a .csv file\n"
   ]
  },
  {
   "cell_type": "code",
   "execution_count": null,
   "id": "67d79e0d",
   "metadata": {},
   "outputs": [],
   "source": [
    "#Importing all necessary packages\n",
    "import selenium\n",
    "from selenium import webdriver\n",
    "from selenium.webdriver.support.ui import WebDriverWait\n",
    "from selenium.webdriver.common.keys import Keys\n",
    "from selenium.webdriver.common.by import By\n",
    "import pandas as pd\n",
    "import time\n",
    "from difflib import SequenceMatcher\n"
   ]
  },
  {
   "cell_type": "markdown",
   "id": "5d024a7f",
   "metadata": {},
   "source": [
    "### Pre - algorithm"
   ]
  },
  {
   "cell_type": "code",
   "execution_count": null,
   "id": "31c5cbef",
   "metadata": {},
   "outputs": [],
   "source": [
    "#Opening Chrome in a new window\n",
    "driver = webdriver.Chrome()\n",
    "\n",
    "#Going to the intended url\n",
    "driver.get(\"https://www.vinmonopolet.no/search/?q=:relevance:price:750:price:1000:price:5000&searchType=product&currentPage=0\")"
   ]
  },
  {
   "cell_type": "code",
   "execution_count": null,
   "id": "d917951e",
   "metadata": {},
   "outputs": [],
   "source": [
    "#Creating a dictionary to store all wine values\n",
    "wines = {\n",
    "    \"Name\" : [],\n",
    "    \"Year\" : [],\n",
    "    \"Price\" : [],\n",
    "    \"Cl\" : [],\n",
    "    \"Country\" : [],\n",
    "    \"Category\" : [],\n",
    "    \"Region\" : [],\n",
    "    \"ID\" : []\n",
    "}\n",
    "\n",
    "#Setting stop value for the while-loop\n",
    "stop = True\n",
    "tmp = 0 #Need variable to do checks on first/last page\n",
    "\n",
    "#Setting default values in case I find no information\n",
    "region_nf = \"not found\"\n",
    "year_nf = \"Non-Vintage\""
   ]
  },
  {
   "cell_type": "markdown",
   "id": "a12150b8",
   "metadata": {},
   "source": [
    "## Algorithm\n",
    "**BE AWARE** This algorithm will take a long time to run as it is a lot of pages to go through. Would higly reccomend using the data stored in wines_vinmonopolet.csv instead. It will be the same result."
   ]
  },
  {
   "cell_type": "code",
   "execution_count": null,
   "id": "7b3f68f3",
   "metadata": {},
   "outputs": [],
   "source": [
    "#While-loop, iterating all articles on Vinmonopolet\n",
    "while stop:\n",
    "    \n",
    "    #Finding all items on the current page\n",
    "    wine_list = driver.find_elements(By.XPATH,'//li[contains(@class,\"product-item\")]')\n",
    "    tmp += len(list(wine_list))\n",
    "    \n",
    "    #Iterating through the wines\n",
    "    for i in range(len(wine_list)):\n",
    "        \n",
    "        #Getting the name stored in 'div'-tag\n",
    "        name = driver.find_elements(By.XPATH, '//div[contains(@class, \"product__name\")]')[i].text\n",
    "        \n",
    "        #Getting year, which is (if present) the last part of the name\n",
    "        year = name.split(\" \")\n",
    "        \n",
    "        #Iterating through the word to find the year\n",
    "        for word in year:\n",
    "            if word.isnumeric():\n",
    "                if len(word) == 4:\n",
    "                    year = word\n",
    "                    #I do not break the loop here in case we have more years in the name (it does excist)\n",
    "            else:\n",
    "                year = year_nf\n",
    "        \n",
    "        #Setting the category stored in a 'div'-tag\n",
    "        category = driver.find_elements(By.XPATH, '//div[contains(@class, \"product__category-name\")]')[i].text.capitalize()\n",
    "        \n",
    "        #Getting both country and region, which is both stored in a string (in a 'div'-tag), splitting by comma-delimiter\n",
    "        country_region = driver.find_elements(By.XPATH, '//div[contains(@class, \"product__district\")]')[i].text.split(\",\")\n",
    "        \n",
    "        #Setting region-value in case we don't find anything\n",
    "        region = \"\"\n",
    "        \n",
    "        #Checking whether we have both country and region\n",
    "        if len(country_region)==1:\n",
    "            country = country_region[0]\n",
    "        else:\n",
    "            country = country_region[0]\n",
    "            region = country_region[1]\n",
    "        \n",
    "        #Getting price, and doing necessary formatting. \n",
    "        price = driver.find_elements(By.XPATH, '//span[contains(@class, \"product__price\")]')[i].text\n",
    "        price = price.replace(\",\", \".\").replace(u\"\\xa0\", u\"\").replace(u\"\\xf4\", u\"o\").replace(u\"\\xf3\",u\"o\").replace(\"Kr\", \"\")\n",
    "        price = float(price.replace(u\" \", u\"\").strip())/11.5 #We divide by 11.5 as that was the NOKGBP at the time of writing\n",
    "        price = \"{:.2f}\".format(price)\n",
    "        \n",
    "        #Getting the amount of litres in the bottle\n",
    "        cl = driver.find_elements(By.XPATH, '//span[contains(@class, \"product__amount\")]')[i].text\n",
    "        \n",
    "        #Getting the ordering ID to make it easier for us to access the right wine at a later point (if we were to move on with this idea)\n",
    "        _id = driver.find_elements(By.XPATH, '//div[contains(@class, \"product__code\")]')[i].text\n",
    "        \n",
    "        #Adding all the variables to the dictionary\n",
    "        wines[\"Name\"].append(name)\n",
    "        wines[\"Cl\"].append(cl)\n",
    "        wines[\"Country\"].append(country)\n",
    "        wines[\"Category\"].append(category)\n",
    "        wines[\"ID\"].append(_id)\n",
    "        wines[\"Price\"].append(price)\n",
    "        wines[\"Year\"].append(year)\n",
    "        \n",
    "        #Adding region if it is not empty, else we add the default value of \"not found\"\n",
    "        if region == \"\":\n",
    "            wines[\"Region\"].append(region_nf)\n",
    "        else:\n",
    "            wines[\"Region\"].append(region)\n",
    "        \n",
    "    #Checking whether there is a next_arrow\n",
    "    next_arrows = driver.find_elements(By.XPATH,'//button[contains(@class,\"pagination-button\")]')\n",
    "    if len(next_arrows) > 0:  \n",
    "        #If there is only one arrow, it is either the first or last page\n",
    "        if len(next_arrows)==1:\n",
    "            #Doing this check to check whether it is the first page or not, if not, we are at the last page\n",
    "            if tmp < 25:\n",
    "                next_arrow = next_arrows[0]\n",
    "            else:\n",
    "                break\n",
    "        else:\n",
    "            next_arrow = next_arrows[1]\n",
    "        \n",
    "        #Clicking the next_arrow\n",
    "        if next_arrow.is_enabled():\n",
    "            next_arrow.click()\n",
    "            time.sleep(3) # Need to wait for some time to load the webpage\n",
    "        else:\n",
    "            stop = False\n",
    "    else:\n",
    "        stop = False\n",
    "        \n",
    "\n",
    "#Creating a DataFrame of the dataset\n",
    "df = pd.DataFrame(wines)\n",
    "\n",
    "#Translation\n",
    "\n",
    "#Reading the self-made dictionary especially for this assignment\n",
    "translations = pd.read_csv(\"translations.csv\")\n",
    "\n",
    "#Dropping any NA's that could be included\n",
    "translations = translations.dropna()\n",
    "\n",
    "#Creating a list of all words that need to be translated\n",
    "translated_words = [word.strip() for word in list(translations.loc[:, \"Norwegian\"])]\n",
    "\n",
    "#List of all the translation words to do the translation in the loop\n",
    "translation = list(translations.loc[:,\"English\"])\n",
    "\n",
    "#For-loop over all wines from Vinmonopolet\n",
    "for row in range(df_wine.shape[0]):\n",
    "    #Doing IF-checks on the columns that need translation\n",
    "    #Category\n",
    "    if df.loc[row, \"Category\"] in translated_words:\n",
    "        df.loc[row, \"Category\"] = translation[translated_words.index(df.loc[row, \"Category\"])]\n",
    "    \n",
    "    #Country\n",
    "    if df.loc[row, \"Country\"] in translated_words:\n",
    "        df.loc[row, \"Country\"] = translation[translated_words.index(df.loc[row, \"Country\"])]\n",
    "    \n",
    "    #Region\n",
    "    if df.loc[row, \"Region\"] in translated_words:\n",
    "        df.loc[row, \"Region\"] = translation[translated_words.index(df.loc[row, \"Region\"])]\n"
   ]
  },
  {
   "cell_type": "markdown",
   "id": "6e096348",
   "metadata": {},
   "source": [
    "### Post - Algorithm"
   ]
  },
  {
   "cell_type": "code",
   "execution_count": null,
   "id": "cbc1cc77",
   "metadata": {},
   "outputs": [],
   "source": [
    "#Storing the dataset to a csv-file\n",
    "df.to_csv(\"wines_vinmonopolet.csv\")\n"
   ]
  }
 ],
 "metadata": {
  "kernelspec": {
   "display_name": "Python 3.10.8 64-bit (microsoft store)",
   "language": "python",
   "name": "python3"
  },
  "language_info": {
   "codemirror_mode": {
    "name": "ipython",
    "version": 3
   },
   "file_extension": ".py",
   "mimetype": "text/x-python",
   "name": "python",
   "nbconvert_exporter": "python",
   "pygments_lexer": "ipython3",
   "version": "3.10.8"
  },
  "vscode": {
   "interpreter": {
    "hash": "a07b79c3943ea5bbe63727817b36bf727ef6424793e6d37f65c22938524854ca"
   }
  }
 },
 "nbformat": 4,
 "nbformat_minor": 5
}
